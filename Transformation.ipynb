{
 "cells": [
  {
   "cell_type": "markdown",
   "metadata": {
    "id": "fKucsZj7PkjH"
   },
   "source": [
    "## Hello , Here you are starting your trip in Matrix Transformations \n",
    "\n",
    "We  Want to build Some Functions over here that will apply some Mathematics !"
   ]
  },
  {
   "cell_type": "markdown",
   "metadata": {
    "id": "PLBCFeFCQSo_"
   },
   "source": [
    "# Standard Scaler \n",
    "\n",
    "1- Build a Function that takes an input Array and Returns  The Mean and Standard Devation ."
   ]
  },
  {
   "cell_type": "code",
   "execution_count": 1,
   "metadata": {
    "id": "KpJMMm5IRcoM"
   },
   "outputs": [],
   "source": [
    "import numpy as np\n",
    "#sample_data\n",
    "X_train= np.array([10,20,30,40,50,60,70,80,90])\n",
    "X_test= np.array([7,15,23,34,45,66,17,83,49])\n"
   ]
  },
  {
   "cell_type": "code",
   "execution_count": 8,
   "metadata": {
    "id": "mEpZAIgrPi1K"
   },
   "outputs": [],
   "source": [
    "def mean(x):\n",
    "    print('Type of X :',type(x))\n",
    "    Mean_x= np.sum(x) / len(x)\n",
    "    #Here, I am just trying to check your code vs Numpy \n",
    "    print('Check your Mean  :',Mean_x-np.mean(x),' The Answer should be 0 ')\n",
    "    return  Mean_x\n",
    "def std(x):\n",
    "    print('Mean of X :',mean(x))\n",
    "    std_x = ((np.sum((x - mean(x)) ** 2) / len(x)) ** 0.5)\n",
    "    #check your code vs Numpy \n",
    "    print('Check your Standard Deviation  :',std_x-np.std(x),' The Answer should be 0 ')\n",
    "    return std_x \n"
   ]
  },
  {
   "cell_type": "code",
   "execution_count": 9,
   "metadata": {
    "id": "Z823Mg7TSAlF"
   },
   "outputs": [
    {
     "name": "stdout",
     "output_type": "stream",
     "text": [
      "Type of X : <class 'numpy.ndarray'>\n",
      "Check your Mean  : 0.0  The Answer should be 0 \n"
     ]
    },
    {
     "data": {
      "text/plain": [
       "50.0"
      ]
     },
     "execution_count": 9,
     "metadata": {},
     "output_type": "execute_result"
    }
   ],
   "source": [
    "# TEST\n",
    "mean(X_train)"
   ]
  },
  {
   "cell_type": "code",
   "execution_count": 10,
   "metadata": {
    "id": "70e-flxuFvMu"
   },
   "outputs": [
    {
     "name": "stdout",
     "output_type": "stream",
     "text": [
      "Type of X : <class 'numpy.ndarray'>\n",
      "Check your Mean  : 0.0  The Answer should be 0 \n",
      "Mean of X : 50.0\n",
      "Type of X : <class 'numpy.ndarray'>\n",
      "Check your Mean  : 0.0  The Answer should be 0 \n",
      "Check your Standard Deviation  : 0.0  The Answer should be 0 \n"
     ]
    },
    {
     "data": {
      "text/plain": [
       "25.81988897471611"
      ]
     },
     "execution_count": 10,
     "metadata": {},
     "output_type": "execute_result"
    }
   ],
   "source": [
    "# TEST\n",
    "std(X_train)"
   ]
  },
  {
   "cell_type": "markdown",
   "metadata": {
    "id": "X4DeDZ8-RSpM"
   },
   "source": [
    "## Standardize\n",
    "2- Build a Function that takes an input Array , Mean, STD and Returns The Array After Scaling \n",
    "\n",
    " by using this equation\n",
    " \n",
    "Scaled =(X-Mean(X))/STD(X)"
   ]
  },
  {
   "cell_type": "code",
   "execution_count": 11,
   "metadata": {
    "id": "2j2vJOhrS31j"
   },
   "outputs": [],
   "source": [
    "def StandardScalertransform(x):\n",
    "    return (x - mean(x)) / std(x)"
   ]
  },
  {
   "cell_type": "code",
   "execution_count": 12,
   "metadata": {
    "id": "r5o1mjweIMrk"
   },
   "outputs": [
    {
     "name": "stdout",
     "output_type": "stream",
     "text": [
      "Type of X : <class 'numpy.ndarray'>\n",
      "Check your Mean  : 0.0  The Answer should be 0 \n",
      "Type of X : <class 'numpy.ndarray'>\n",
      "Check your Mean  : 0.0  The Answer should be 0 \n",
      "Mean of X : 50.0\n",
      "Type of X : <class 'numpy.ndarray'>\n",
      "Check your Mean  : 0.0  The Answer should be 0 \n",
      "Check your Standard Deviation  : 0.0  The Answer should be 0 \n"
     ]
    },
    {
     "data": {
      "text/plain": [
       "('Check your Result here :', 1.0, ' The Answer Should  be equal to 1.0')"
      ]
     },
     "execution_count": 12,
     "metadata": {},
     "output_type": "execute_result"
    }
   ],
   "source": [
    "Scaled=StandardScalertransform(X_train)\n",
    "('Check your Result here :',np.std(Scaled) ,' The Answer Should  be equal to 1.0')"
   ]
  },
  {
   "cell_type": "markdown",
   "metadata": {
    "id": "lStxSqT_TKgi"
   },
   "source": [
    "# Normalize\n",
    "\n",
    "Formula = (x -min)/( max - min)"
   ]
  },
  {
   "cell_type": "code",
   "execution_count": 13,
   "metadata": {
    "id": "-wBGJd3ZTOYM"
   },
   "outputs": [],
   "source": [
    "def minMaxScaler(x):\n",
    "    return (x - np.min(x)) / (np.max(x) - np.min(x)) \n",
    "    "
   ]
  },
  {
   "cell_type": "code",
   "execution_count": 14,
   "metadata": {
    "id": "-NZd34N4MHTz"
   },
   "outputs": [
    {
     "name": "stdout",
     "output_type": "stream",
     "text": [
      "to Check if you are right :-\n",
      " The Minimum  0.0 The Value should be 0\n",
      " The Maximum  1.0  The Value should be 1 \n"
     ]
    }
   ],
   "source": [
    "mm=minMaxScaler(X_train)\n",
    "print('to Check if you are right :-\\n' ' The Minimum ',np.min(mm),'The Value should be 0\\n', 'The Maximum ' ,np.max(mm), ' The Value should be 1 ')"
   ]
  },
  {
   "cell_type": "markdown",
   "metadata": {
    "id": "gGqUo__HI1g-"
   },
   "source": [
    "# Master Task \n",
    "Make A Class called `Transformer` That takes The last 2 Functions  as Methods for the Class."
   ]
  },
  {
   "cell_type": "code",
   "execution_count": 44,
   "metadata": {
    "id": "tc4VcQd3fv_5"
   },
   "outputs": [],
   "source": [
    "class Transformer ():\n",
    "    # Attributes\n",
    "    def __init__ ( self , x):\n",
    "        self.x = x \n",
    "        self.mean = np.sum(self.x) / len(self.x)\n",
    "        self.std = ((np.sum((self.x - self.mean) ** 2) / len(self.x)) ** 0.5)\n",
    "    def StandardScalertransform(self):\n",
    "        return (self.x - self.mean) / self.std\n",
    "    def minMaxScaler(self):\n",
    "        return (self.x - np.min(self.x)) / (np.max(self.x) - np.min(self.x)) "
   ]
  },
  {
   "cell_type": "code",
   "execution_count": 45,
   "metadata": {
    "id": "cCaugTTegSw_"
   },
   "outputs": [
    {
     "data": {
      "text/plain": [
       "array([-1.54919334, -1.161895  , -0.77459667, -0.38729833,  0.        ,\n",
       "        0.38729833,  0.77459667,  1.161895  ,  1.54919334])"
      ]
     },
     "execution_count": 45,
     "metadata": {},
     "output_type": "execute_result"
    }
   ],
   "source": [
    "T=Transformer(X_train)\n",
    "T.StandardScalertransform()"
   ]
  },
  {
   "cell_type": "code",
   "execution_count": 46,
   "metadata": {
    "id": "qhkJgdMAgfds"
   },
   "outputs": [
    {
     "data": {
      "text/plain": [
       "array([0.   , 0.125, 0.25 , 0.375, 0.5  , 0.625, 0.75 , 0.875, 1.   ])"
      ]
     },
     "execution_count": 46,
     "metadata": {},
     "output_type": "execute_result"
    }
   ],
   "source": [
    "T.minMaxScaler()"
   ]
  },
  {
   "cell_type": "code",
   "execution_count": null,
   "metadata": {},
   "outputs": [],
   "source": []
  }
 ],
 "metadata": {
  "colab": {
   "collapsed_sections": [],
   "name": "Transformation.ipynb",
   "provenance": []
  },
  "kernelspec": {
   "display_name": "Python 3",
   "language": "python",
   "name": "python3"
  },
  "language_info": {
   "codemirror_mode": {
    "name": "ipython",
    "version": 3
   },
   "file_extension": ".py",
   "mimetype": "text/x-python",
   "name": "python",
   "nbconvert_exporter": "python",
   "pygments_lexer": "ipython3",
   "version": "3.7.3"
  }
 },
 "nbformat": 4,
 "nbformat_minor": 1
}
